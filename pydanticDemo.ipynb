{
 "cells": [
  {
   "cell_type": "code",
   "execution_count": null,
   "id": "eaf8d74d",
   "metadata": {
    "vscode": {
     "languageId": "plaintext"
    }
   },
   "outputs": [],
   "source": [
    "from langchain.chat_models import ChatOpenAI\n",
    "from dotenv import load_dotenv, find_dotenv\n",
    "\n",
    "load_dotenv(find_dotenv())\n",
    "\n",
    "model = ChatOpenAI(temperature = 0)\n",
    "\n",
    "messages = [\n",
    "]\n",
    "from langchain.prompts import ChatPromptTemplate\n",
    "\n",
    "\n",
    "template = ChatPromptTemplate.from_messages([\n",
    "    (\"system\", \" you are an intelligent agent. answer user's prompt accurately\"),\n",
    "    (\"user\", \"{prompt}\"),\n",
    "    (\"system\", f\"history for context: {messages}\") # this does not work (as its not dynamic)\n",
    "    \n",
    "])\n",
    "\n",
    "chain = template | model\n"
   ]
  },
  {
   "cell_type": "code",
   "execution_count": null,
   "id": "cf67fda9",
   "metadata": {
    "vscode": {
     "languageId": "plaintext"
    }
   },
   "outputs": [],
   "source": [
    "from typing import List\n",
    "from langchain.utils.openai_functions import convert_pydantic_to_openai_function\n",
    "from pydantic import BaseModel, Field\n",
    "\n",
    "\n",
    "class Add(BaseModel):\n",
    "    '''\n",
    "        add numbers\n",
    "    '''\n",
    "    numbers: List[int] = Field(description=\"list containing integer numbers to add\")\n",
    "    \n",
    "\n",
    "tools = [convert_pydantic_to_openai_function(Add)]\n",
    "\n",
    "\n",
    "model.bind(functions = tools)\n",
    "# note it returns a new model with functions\n",
    "\n",
    "\n",
    "model_with_tools = model.bind(functions = tools)\n",
    "\n",
    "template = ChatPromptTemplate.from_messages([\n",
    "    (\"act like a dumb person who doesn't know how to perform even the basic operations like addition!\"),\n",
    "    (\"user\", \"{input}\")\n",
    "])\n",
    "\n",
    "chain = template | model_with_tools\n",
    "\n",
    "chain.invoke({\"input\": \"can you add 1 and 2 please\"})\n",
    "\n",
    "\n",
    "'''\n",
    "o/p:\n",
    "\n",
    "chain.invoke({\"input\": \"can you add 1 and 2 please\"})\n",
    "AIMessage(content='', additional_kwargs={'function_call': {'name': 'Add', 'arguments': '{\"numbers\":[1,2]}'}})\n",
    "'''"
   ]
  }
 ],
 "metadata": {
  "language_info": {
   "name": "python"
  }
 },
 "nbformat": 4,
 "nbformat_minor": 5
}
